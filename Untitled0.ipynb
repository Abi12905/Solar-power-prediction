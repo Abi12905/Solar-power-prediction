{
  "nbformat": 4,
  "nbformat_minor": 0,
  "metadata": {
    "colab": {
      "provenance": []
    },
    "kernelspec": {
      "name": "python3",
      "display_name": "Python 3"
    },
    "language_info": {
      "name": "python"
    }
  },
  "cells": [
    {
      "cell_type": "code",
      "execution_count": null,
      "metadata": {
        "id": "t03oytGqIp91"
      },
      "outputs": [],
      "source": [
        "# Import necessary libraries\n",
        "import pandas as pd\n",
        "import matplotlib.pyplot as plt\n",
        "import seaborn as sns\n",
        "\n",
        "# Load the dataset\n",
        "# Replace 'your_dataset.csv' with the actual path or URL to your dataset\n",
        "df = pd.read_csv(\"your_dataset.csv\")\n",
        "\n",
        "# Show the first few rows of the dataset to understand its structure\n",
        "print(\"First few rows of the dataset:\")\n",
        "print(df.head())\n",
        "\n",
        "# Show summary statistics of the numerical columns\n",
        "print(\"\\nSummary Statistics:\")\n",
        "print(df.describe())\n",
        "\n",
        "# Check for missing values in the dataset\n",
        "print(\"\\nMissing values:\")\n",
        "print(df.isnull().sum())\n",
        "\n",
        "# Step 1: Visualize Data\n",
        "# Example 1: Plot a Histogram for a numerical column\n",
        "plt.figure(figsize=(8, 6))\n",
        "df['column_name'].hist(bins=30, color='skyblue', edgecolor='black')\n",
        "plt.title('Histogram of column_name')\n",
        "plt.xlabel('column_name')\n",
        "plt.ylabel('Frequency')\n",
        "plt.show()\n",
        "\n",
        "# Example 2: Scatter Plot to analyze relationship between two numerical columns\n",
        "plt.figure(figsize=(8, 6))\n",
        "plt.scatter(df['column1'], df['column2'], color='green')\n",
        "plt.title('Scatter plot of column1 vs column2')\n",
        "plt.xlabel('column1')\n",
        "plt.ylabel('column2')\n",
        "plt.show()\n",
        "\n",
        "# Example 3: Create a Correlation Heatmap\n",
        "plt.figure(figsize=(10, 8))\n",
        "correlation_matrix = df.corr()  # Calculate the correlation matrix\n",
        "sns.heatmap(correlation_matrix, annot=True, cmap='coolwarm', fmt='.2f')\n",
        "plt.title('Correlation Heatmap')\n",
        "plt.show()\n",
        "\n",
        "# Example 4: Boxplot for distribution across categories (e.g., categorical and numerical columns)\n",
        "plt.figure(figsize=(8, 6))\n",
        "sns.boxplot(x='category_column', y='numeric_column', data=df)\n",
        "plt.title('Box Plot of numeric_column by category_column')\n",
        "plt.show()\n"
      ]
    }
  ]
}